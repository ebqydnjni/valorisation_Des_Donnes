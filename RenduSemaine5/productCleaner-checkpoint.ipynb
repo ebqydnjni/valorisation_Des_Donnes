{
 "cells": [
  {
   "cell_type": "markdown",
   "id": "c34fadf6-b741-41b4-8540-b84d7f5f2054",
   "metadata": {},
   "source": [
    "# IMPORTATION DU FICHIER PRODUCT.CSV\n"
   ]
  },
  {
   "cell_type": "code",
   "execution_count": 7,
   "id": "a46c390e-4f96-40f9-96eb-d50a4189131a",
   "metadata": {},
   "outputs": [],
   "source": [
    "import pandas as pd\n",
    "\n",
    "df = pd.read_csv('../data/dirtyProducts.csv', on_bad_lines='skip', sep=\";\")\n"
   ]
  },
  {
   "cell_type": "markdown",
   "id": "8efed036-86a2-4205-9f9d-73b1b565a044",
   "metadata": {},
   "source": [
    "# FONCTION DE TRANSFORMATION POUR LA COLONE DES POIDS \n",
    "## Nous voulons faire la conversions des ounces en pounds "
   ]
  },
  {
   "cell_type": "code",
   "execution_count": 8,
   "id": "4252651c-4588-41fb-b0ab-bb1498a5cd06",
   "metadata": {},
   "outputs": [],
   "source": [
    "def convert_weights(weight):\n",
    "    if isinstance(weight, str):\n",
    "        if 'pounds' in weight:\n",
    "            return float(weight.replace(' pounds', ''))\n",
    "        elif 'ounces' in weight:\n",
    "            return float(weight.replace(' ounces', '')) * 0.0625\n",
    "        else:\n",
    "            return weight\n",
    "    return weight"
   ]
  },
  {
   "cell_type": "markdown",
   "id": "2d1e999c-9a45-415f-8250-5422fead9e5a",
   "metadata": {},
   "source": [
    "# NETTOYAGE DE PRODUCT.CSV\n"
   ]
  },
  {
   "cell_type": "code",
   "execution_count": 9,
   "id": "1ded154b-3825-4fe8-931b-3cf20adfe40d",
   "metadata": {},
   "outputs": [],
   "source": [
    "# SUPRESSION DES COLONES SANS VALEURS\n",
    "df = df.dropna()\n",
    "\n",
    "\n",
    "# SUPPRESSION DES \"$\" \n",
    "df.replace(to_replace='\\$', value='', regex=True, inplace=True)\n",
    "\n",
    "\n",
    "# SUPPRESSION DES DOUBLONS\n",
    "df.drop_duplicates(subset=None, keep='first', inplace=False, ignore_index=False)\n",
    "\n",
    "\n",
    "# APPLICATION DE LA FONCTION \"convert_weight\" DANS LA COLONNE POIDS (SHIPPING WEIGHT)\n",
    "df['Shipping Weight'] = df['Shipping Weight'].apply(convert_weights)\n",
    "\n",
    "# NOUS AVONS CHOISIS DE REMPLACER LES Y ET N (YES ET NO) EN 1 ET 0 DANS LA COLONNE \"Is Amazon seller\"\n",
    "df[\"Is Amazon Seller\"] = df[\"Is Amazon Seller\"] .replace({'Y':1,'N':0}) \n",
    "\n",
    "\n",
    "# REMISE EN FORMAT CSV DE PRODUCT.CSV\n",
    "df.to_csv('../data/dirtyProducts.csv', index=False)\n",
    "\n"
   ]
  },
  {
   "cell_type": "markdown",
   "id": "a2b9bbe5-4b3d-4a40-883a-ec3e547bd03f",
   "metadata": {},
   "source": [
    "# Utilisation combinée de Dataprep et ydata_profiling pour la visualisation "
   ]
  },
  {
   "cell_type": "markdown",
   "id": "da81d790-25dc-481e-a271-a0d553ed31af",
   "metadata": {},
   "source": [
    "## IMPORTATIONS "
   ]
  },
  {
   "cell_type": "code",
   "execution_count": null,
   "id": "e8f48406-da4b-498d-ae46-12d45bbfd9a9",
   "metadata": {},
   "outputs": [],
   "source": [
    "from ydata_profiling import ProfileReport\n",
    "from dataprep.eda import create_report\n",
    "from dataprep.datasets import load_dataset, get_dataset_names"
   ]
  },
  {
   "cell_type": "markdown",
   "id": "bb1b84a2-2f8e-4827-981d-6490908caebb",
   "metadata": {},
   "source": [
    "## Visualisation avec Dataprep EDA "
   ]
  },
  {
   "cell_type": "code",
   "execution_count": null,
   "id": "9c9d681f-e88c-4228-883d-8d7fef0b0a90",
   "metadata": {},
   "outputs": [],
   "source": [
    "#creation du profil (ydata-profiling)\n",
    "profile = ProfileReport(df, title=\"Profiling Report\")\n",
    "\n",
    "#creation d'un raport (dataprep)\n",
    "report = create_report(df)\n",
    "report.show_browser()\n"
   ]
  },
  {
   "cell_type": "markdown",
   "id": "95146a8f-4fee-432c-bad4-ef06fb97b5f9",
   "metadata": {},
   "source": [
    "## Visualisation avec Ydata Profiling (pandas)"
   ]
  },
  {
   "cell_type": "code",
   "execution_count": null,
   "id": "e791f8cf-4259-4a75-a806-a77a1bcc3a1a",
   "metadata": {},
   "outputs": [],
   "source": [
    "#creation du profil (ydata-profiling)\n",
    "profile = ProfileReport(df, title=\"Profiling Report\")\n",
    "\n",
    "#visualisation avec ydata_profiling\n",
    "profile.to_notebook_iframe()\n",
    "\n",
    "#transformation de la visualisation en fichier html(ydata-profiling)\n",
    "profile.to_file(\"Products.html\")"
   ]
  }
 ],
 "metadata": {
  "kernelspec": {
   "display_name": "Python 3 (ipykernel)",
   "language": "python",
   "name": "python3"
  },
  "language_info": {
   "codemirror_mode": {
    "name": "ipython",
    "version": 3
   },
   "file_extension": ".py",
   "mimetype": "text/x-python",
   "name": "python",
   "nbconvert_exporter": "python",
   "pygments_lexer": "ipython3",
   "version": "3.9.10"
  }
 },
 "nbformat": 4,
 "nbformat_minor": 5
}
