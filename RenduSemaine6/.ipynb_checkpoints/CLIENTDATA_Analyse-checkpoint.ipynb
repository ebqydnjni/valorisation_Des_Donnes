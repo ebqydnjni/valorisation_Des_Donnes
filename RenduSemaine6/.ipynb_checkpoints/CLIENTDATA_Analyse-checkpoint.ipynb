{
 "cells": [
  {
   "cell_type": "code",
   "execution_count": 3,
   "id": "b7f82c0c-1545-426f-b3d6-a4010b82b2a1",
   "metadata": {},
   "outputs": [],
   "source": [
    "import pandas as pd\n",
    "import numpy as np\n",
    "import random as rnd\n",
    "import matplotlib.pyplot as plt\n",
    "import seaborn as sns"
   ]
  },
  {
   "cell_type": "code",
   "execution_count": 4,
   "id": "b9037c0a-0422-4999-9d19-8289e2341f8b",
   "metadata": {},
   "outputs": [
    {
     "name": "stderr",
     "output_type": "stream",
     "text": [
      "C:\\Users\\aldio\\AppData\\Local\\Temp\\ipykernel_21352\\1171154030.py:1: DtypeWarning: Columns (0,1,2,3,4,5,6,7,10) have mixed types. Specify dtype option on import or set low_memory=False.\n",
      "  clients =pd.read_csv(\"C:/Users/aldio/OneDrive/Documents/ProjetValorisationD/ProjetValorisationDonnees/Semaine6/clients.csv\")\n"
     ]
    },
    {
     "data": {
      "text/html": [
       "<div>\n",
       "<style scoped>\n",
       "    .dataframe tbody tr th:only-of-type {\n",
       "        vertical-align: middle;\n",
       "    }\n",
       "\n",
       "    .dataframe tbody tr th {\n",
       "        vertical-align: top;\n",
       "    }\n",
       "\n",
       "    .dataframe thead th {\n",
       "        text-align: right;\n",
       "    }\n",
       "</style>\n",
       "<table border=\"1\" class=\"dataframe\">\n",
       "  <thead>\n",
       "    <tr style=\"text-align: right;\">\n",
       "      <th></th>\n",
       "      <th>idClient</th>\n",
       "      <th>prenom</th>\n",
       "      <th>nom</th>\n",
       "      <th>sexe</th>\n",
       "      <th>email</th>\n",
       "      <th>telephone</th>\n",
       "      <th>dateNaissance</th>\n",
       "      <th>profession</th>\n",
       "      <th>ville</th>\n",
       "      <th>region</th>\n",
       "      <th>mdp</th>\n",
       "    </tr>\n",
       "  </thead>\n",
       "  <tbody>\n",
       "    <tr>\n",
       "      <th>0</th>\n",
       "      <td>5f10e9D33fC5f2b</td>\n",
       "      <td>Sara</td>\n",
       "      <td>Mcguire</td>\n",
       "      <td>Femme</td>\n",
       "      <td>tsharp@example.net</td>\n",
       "      <td>(971)643-6089x9160</td>\n",
       "      <td>1921-08-17</td>\n",
       "      <td>Editor, commissioning</td>\n",
       "      <td>Shashemenē</td>\n",
       "      <td>Oromiya</td>\n",
       "      <td>n4iNrw4s3T</td>\n",
       "    </tr>\n",
       "    <tr>\n",
       "      <th>1</th>\n",
       "      <td>DcEFDB2D2e62bF9</td>\n",
       "      <td>Gwendolyn</td>\n",
       "      <td>Sheppard</td>\n",
       "      <td>Homme</td>\n",
       "      <td>mercadojonathan@example.com</td>\n",
       "      <td>9017807728</td>\n",
       "      <td>1915-09-25</td>\n",
       "      <td>Industrial buyer</td>\n",
       "      <td>Jasaan</td>\n",
       "      <td>Northern Mindanao</td>\n",
       "      <td>nyujgh2wdH</td>\n",
       "    </tr>\n",
       "    <tr>\n",
       "      <th>2</th>\n",
       "      <td>C88661E02EEDA9e</td>\n",
       "      <td>Kristine</td>\n",
       "      <td>Mccann</td>\n",
       "      <td>Femme</td>\n",
       "      <td>lindsay55@example.com</td>\n",
       "      <td>+1-607-333-9911x59088</td>\n",
       "      <td>1978-07-27</td>\n",
       "      <td>Multimedia specialist</td>\n",
       "      <td>Toshloq</td>\n",
       "      <td>Fergana</td>\n",
       "      <td>O7mo3dRp2j</td>\n",
       "    </tr>\n",
       "    <tr>\n",
       "      <th>3</th>\n",
       "      <td>fafF1aBDebaB2a6</td>\n",
       "      <td>Bobby</td>\n",
       "      <td>Pittman</td>\n",
       "      <td>Femme</td>\n",
       "      <td>blevinsmorgan@example.com</td>\n",
       "      <td>3739847538</td>\n",
       "      <td>1989-11-17</td>\n",
       "      <td>Planning and development surveyor</td>\n",
       "      <td>Leytonstone</td>\n",
       "      <td>England</td>\n",
       "      <td>VUFNcK4qEw</td>\n",
       "    </tr>\n",
       "    <tr>\n",
       "      <th>4</th>\n",
       "      <td>BdDb6C8Af309202</td>\n",
       "      <td>Calvin</td>\n",
       "      <td>Ramsey</td>\n",
       "      <td>Femme</td>\n",
       "      <td>loretta85@example.com</td>\n",
       "      <td>001-314-829-5014x1792</td>\n",
       "      <td>2017-08-31</td>\n",
       "      <td>Therapeutic radiographer</td>\n",
       "      <td>Salwá</td>\n",
       "      <td>Hawalli</td>\n",
       "      <td>z4Ll1m7ODZ</td>\n",
       "    </tr>\n",
       "  </tbody>\n",
       "</table>\n",
       "</div>"
      ],
      "text/plain": [
       "          idClient     prenom       nom   sexe                        email  \\\n",
       "0  5f10e9D33fC5f2b       Sara   Mcguire  Femme           tsharp@example.net   \n",
       "1  DcEFDB2D2e62bF9  Gwendolyn  Sheppard  Homme  mercadojonathan@example.com   \n",
       "2  C88661E02EEDA9e   Kristine    Mccann  Femme        lindsay55@example.com   \n",
       "3  fafF1aBDebaB2a6      Bobby   Pittman  Femme    blevinsmorgan@example.com   \n",
       "4  BdDb6C8Af309202     Calvin    Ramsey  Femme        loretta85@example.com   \n",
       "\n",
       "               telephone dateNaissance                         profession  \\\n",
       "0     (971)643-6089x9160    1921-08-17              Editor, commissioning   \n",
       "1             9017807728    1915-09-25                   Industrial buyer   \n",
       "2  +1-607-333-9911x59088    1978-07-27              Multimedia specialist   \n",
       "3             3739847538    1989-11-17  Planning and development surveyor   \n",
       "4  001-314-829-5014x1792    2017-08-31           Therapeutic radiographer   \n",
       "\n",
       "         ville             region         mdp  \n",
       "0   Shashemenē            Oromiya  n4iNrw4s3T  \n",
       "1       Jasaan  Northern Mindanao  nyujgh2wdH  \n",
       "2      Toshloq            Fergana  O7mo3dRp2j  \n",
       "3  Leytonstone            England  VUFNcK4qEw  \n",
       "4        Salwá            Hawalli  z4Ll1m7ODZ  "
      ]
     },
     "execution_count": 4,
     "metadata": {},
     "output_type": "execute_result"
    }
   ],
   "source": [
    "clients =pd.read_csv(\"C:/Users/aldio/OneDrive/Documents/ProjetValorisationD/ProjetValorisationDonnees/Semaine6/clients.csv\")\n",
    "clients.head()"
   ]
  },
  {
   "cell_type": "markdown",
   "id": "32b0e612",
   "metadata": {},
   "source": [
    "### clean"
   ]
  },
  {
   "cell_type": "code",
   "execution_count": 6,
   "id": "fb2303f2",
   "metadata": {},
   "outputs": [
    {
     "name": "stdout",
     "output_type": "stream",
     "text": [
      "idClient         150000\n",
      "prenom           150000\n",
      "nom              150000\n",
      "sexe             150000\n",
      "email            150000\n",
      "telephone        150000\n",
      "dateNaissance    150000\n",
      "profession       150000\n",
      "ville              8592\n",
      "region             8742\n",
      "mdp              158323\n",
      "dtype: int64\n"
     ]
    }
   ],
   "source": [
    "print(clients.isna().sum())"
   ]
  },
  {
   "cell_type": "markdown",
   "id": "486b2f0c",
   "metadata": {},
   "source": []
  },
  {
   "cell_type": "code",
   "execution_count": 7,
   "id": "23b35a16",
   "metadata": {},
   "outputs": [],
   "source": [
    "clients = clients.dropna()"
   ]
  },
  {
   "cell_type": "markdown",
   "id": "e7ef90a3",
   "metadata": {},
   "source": [
    "##### FAISONS UNE ANALYSE DESCRIPTIVE SUR LE DATASETS CLIENTS"
   ]
  },
  {
   "cell_type": "markdown",
   "id": "234774f4",
   "metadata": {},
   "source": [
    "### Verifions s'il y'as des valeurs Manquantes "
   ]
  },
  {
   "cell_type": "code",
   "execution_count": 8,
   "id": "7388a1f6",
   "metadata": {},
   "outputs": [
    {
     "name": "stdout",
     "output_type": "stream",
     "text": [
      "idClient         0\n",
      "prenom           0\n",
      "nom              0\n",
      "sexe             0\n",
      "email            0\n",
      "telephone        0\n",
      "dateNaissance    0\n",
      "profession       0\n",
      "ville            0\n",
      "region           0\n",
      "mdp              0\n",
      "dtype: int64\n"
     ]
    }
   ],
   "source": [
    "print(clients.isna().sum())"
   ]
  },
  {
   "cell_type": "markdown",
   "id": "d208b745",
   "metadata": {},
   "source": []
  },
  {
   "cell_type": "code",
   "execution_count": 9,
   "id": "a4714252",
   "metadata": {},
   "outputs": [
    {
     "data": {
      "text/plain": [
       "<bound method NDFrame.head of             idClient     prenom        nom   sexe  \\\n",
       "0    5f10e9D33fC5f2b       Sara    Mcguire  Femme   \n",
       "1    DcEFDB2D2e62bF9  Gwendolyn   Sheppard  Homme   \n",
       "2    C88661E02EEDA9e   Kristine     Mccann  Femme   \n",
       "3    fafF1aBDebaB2a6      Bobby    Pittman  Femme   \n",
       "4    BdDb6C8Af309202     Calvin     Ramsey  Femme   \n",
       "..               ...        ...        ...    ...   \n",
       "453  aDe216dCD496fCC     Carlos    Rowland  Homme   \n",
       "454  6aa9fAac21087fC    Russell    Fleming  Femme   \n",
       "455  eF8Fdbb3CA4ED41     Gloria  Dougherty  Femme   \n",
       "456  Cf3E458dFEbEDBd     Justin     Burton  Homme   \n",
       "457  bdaAaceBCaaA5aD     Austin   Clements  Femme   \n",
       "\n",
       "                           email               telephone dateNaissance  \\\n",
       "0             tsharp@example.net      (971)643-6089x9160    1921-08-17   \n",
       "1    mercadojonathan@example.com              9017807728    1915-09-25   \n",
       "2          lindsay55@example.com   +1-607-333-9911x59088    1978-07-27   \n",
       "3      blevinsmorgan@example.com              3739847538    1989-11-17   \n",
       "4          loretta85@example.com   001-314-829-5014x1792    2017-08-31   \n",
       "..                           ...                     ...           ...   \n",
       "453       colonbarry@example.org   001-874-275-4392x4474    2005-07-20   \n",
       "454          yuethan@example.net   001-260-578-8431x4722    1970-04-08   \n",
       "455          nancy13@example.com   001-073-129-1327x0208    1998-01-25   \n",
       "456          tommy71@example.net              9698768082    1974-04-28   \n",
       "457            rtate@example.org  001-591-612-6569x38223    1962-05-03   \n",
       "\n",
       "                             profession              ville             region  \\\n",
       "0                 Editor, commissioning         Shashemenē            Oromiya   \n",
       "1                      Industrial buyer             Jasaan  Northern Mindanao   \n",
       "2                 Multimedia specialist            Toshloq            Fergana   \n",
       "3     Planning and development surveyor        Leytonstone            England   \n",
       "4              Therapeutic radiographer              Salwá            Hawalli   \n",
       "..                                  ...                ...                ...   \n",
       "453               Engineering geologist        Rosa Zarate         Esmeraldas   \n",
       "454                         Chiropodist             Paraty     Rio de Janeiro   \n",
       "455  Tourist information centre manager       Qadirpur Ran             Punjab   \n",
       "456        Medical sales representative             Sorada             Odisha   \n",
       "457                Commissioning editor  Verkhnyaya Pyshma  Sverdlovsk Oblast   \n",
       "\n",
       "            mdp  \n",
       "0    n4iNrw4s3T  \n",
       "1    nyujgh2wdH  \n",
       "2    O7mo3dRp2j  \n",
       "3    VUFNcK4qEw  \n",
       "4    z4Ll1m7ODZ  \n",
       "..          ...  \n",
       "453  QjZn1ZO3IM  \n",
       "454  Mzyw36OSht  \n",
       "455  q9MbZOodrL  \n",
       "456  ywLEH78pYS  \n",
       "457  n6EbkJHvKQ  \n",
       "\n",
       "[458 rows x 11 columns]>"
      ]
     },
     "execution_count": 9,
     "metadata": {},
     "output_type": "execute_result"
    }
   ],
   "source": [
    "clients.head"
   ]
  },
  {
   "cell_type": "markdown",
   "id": "c758f26a",
   "metadata": {},
   "source": [
    "#### EDA :"
   ]
  },
  {
   "cell_type": "markdown",
   "id": "67a38584",
   "metadata": {},
   "source": [
    "### AFFICHIER LES DIFFERENT COLONES DU DATASET "
   ]
  },
  {
   "cell_type": "code",
   "execution_count": 10,
   "id": "e264ec02",
   "metadata": {},
   "outputs": [
    {
     "data": {
      "text/html": [
       "<div>\n",
       "<style scoped>\n",
       "    .dataframe tbody tr th:only-of-type {\n",
       "        vertical-align: middle;\n",
       "    }\n",
       "\n",
       "    .dataframe tbody tr th {\n",
       "        vertical-align: top;\n",
       "    }\n",
       "\n",
       "    .dataframe thead th {\n",
       "        text-align: right;\n",
       "    }\n",
       "</style>\n",
       "<table border=\"1\" class=\"dataframe\">\n",
       "  <thead>\n",
       "    <tr style=\"text-align: right;\">\n",
       "      <th></th>\n",
       "      <th>idClient</th>\n",
       "      <th>prenom</th>\n",
       "      <th>nom</th>\n",
       "      <th>sexe</th>\n",
       "      <th>email</th>\n",
       "      <th>telephone</th>\n",
       "      <th>dateNaissance</th>\n",
       "      <th>profession</th>\n",
       "      <th>ville</th>\n",
       "      <th>region</th>\n",
       "      <th>mdp</th>\n",
       "    </tr>\n",
       "  </thead>\n",
       "  <tbody>\n",
       "    <tr>\n",
       "      <th>count</th>\n",
       "      <td>458</td>\n",
       "      <td>458</td>\n",
       "      <td>458</td>\n",
       "      <td>458</td>\n",
       "      <td>458</td>\n",
       "      <td>458</td>\n",
       "      <td>458</td>\n",
       "      <td>458</td>\n",
       "      <td>458</td>\n",
       "      <td>458</td>\n",
       "      <td>458</td>\n",
       "    </tr>\n",
       "    <tr>\n",
       "      <th>unique</th>\n",
       "      <td>458</td>\n",
       "      <td>317</td>\n",
       "      <td>372</td>\n",
       "      <td>2</td>\n",
       "      <td>458</td>\n",
       "      <td>458</td>\n",
       "      <td>457</td>\n",
       "      <td>327</td>\n",
       "      <td>454</td>\n",
       "      <td>303</td>\n",
       "      <td>458</td>\n",
       "    </tr>\n",
       "    <tr>\n",
       "      <th>top</th>\n",
       "      <td>5f10e9D33fC5f2b</td>\n",
       "      <td>Tonya</td>\n",
       "      <td>Farley</td>\n",
       "      <td>Femme</td>\n",
       "      <td>tsharp@example.net</td>\n",
       "      <td>(971)643-6089x9160</td>\n",
       "      <td>1992-01-27</td>\n",
       "      <td>Therapeutic radiographer</td>\n",
       "      <td>Tapachula</td>\n",
       "      <td>England</td>\n",
       "      <td>n4iNrw4s3T</td>\n",
       "    </tr>\n",
       "    <tr>\n",
       "      <th>freq</th>\n",
       "      <td>1</td>\n",
       "      <td>4</td>\n",
       "      <td>3</td>\n",
       "      <td>256</td>\n",
       "      <td>1</td>\n",
       "      <td>1</td>\n",
       "      <td>2</td>\n",
       "      <td>4</td>\n",
       "      <td>2</td>\n",
       "      <td>16</td>\n",
       "      <td>1</td>\n",
       "    </tr>\n",
       "  </tbody>\n",
       "</table>\n",
       "</div>"
      ],
      "text/plain": [
       "               idClient prenom     nom   sexe               email  \\\n",
       "count               458    458     458    458                 458   \n",
       "unique              458    317     372      2                 458   \n",
       "top     5f10e9D33fC5f2b  Tonya  Farley  Femme  tsharp@example.net   \n",
       "freq                  1      4       3    256                   1   \n",
       "\n",
       "                 telephone dateNaissance                profession      ville  \\\n",
       "count                  458           458                       458        458   \n",
       "unique                 458           457                       327        454   \n",
       "top     (971)643-6089x9160    1992-01-27  Therapeutic radiographer  Tapachula   \n",
       "freq                     1             2                         4          2   \n",
       "\n",
       "         region         mdp  \n",
       "count       458         458  \n",
       "unique      303         458  \n",
       "top     England  n4iNrw4s3T  \n",
       "freq         16           1  "
      ]
     },
     "execution_count": 10,
     "metadata": {},
     "output_type": "execute_result"
    }
   ],
   "source": [
    "clients.describe()"
   ]
  },
  {
   "cell_type": "markdown",
   "id": "d3f4afc4",
   "metadata": {},
   "source": []
  },
  {
   "cell_type": "markdown",
   "id": "8033637b",
   "metadata": {},
   "source": [
    "###### Les colones "
   ]
  },
  {
   "cell_type": "code",
   "execution_count": 11,
   "id": "ad376d3a",
   "metadata": {},
   "outputs": [
    {
     "name": "stdout",
     "output_type": "stream",
     "text": [
      "            idClient     prenom        nom   sexe  \\\n",
      "0    5f10e9D33fC5f2b       Sara    Mcguire  Femme   \n",
      "1    DcEFDB2D2e62bF9  Gwendolyn   Sheppard  Homme   \n",
      "2    C88661E02EEDA9e   Kristine     Mccann  Femme   \n",
      "3    fafF1aBDebaB2a6      Bobby    Pittman  Femme   \n",
      "4    BdDb6C8Af309202     Calvin     Ramsey  Femme   \n",
      "..               ...        ...        ...    ...   \n",
      "453  aDe216dCD496fCC     Carlos    Rowland  Homme   \n",
      "454  6aa9fAac21087fC    Russell    Fleming  Femme   \n",
      "455  eF8Fdbb3CA4ED41     Gloria  Dougherty  Femme   \n",
      "456  Cf3E458dFEbEDBd     Justin     Burton  Homme   \n",
      "457  bdaAaceBCaaA5aD     Austin   Clements  Femme   \n",
      "\n",
      "                           email               telephone dateNaissance  \\\n",
      "0             tsharp@example.net      (971)643-6089x9160    1921-08-17   \n",
      "1    mercadojonathan@example.com              9017807728    1915-09-25   \n",
      "2          lindsay55@example.com   +1-607-333-9911x59088    1978-07-27   \n",
      "3      blevinsmorgan@example.com              3739847538    1989-11-17   \n",
      "4          loretta85@example.com   001-314-829-5014x1792    2017-08-31   \n",
      "..                           ...                     ...           ...   \n",
      "453       colonbarry@example.org   001-874-275-4392x4474    2005-07-20   \n",
      "454          yuethan@example.net   001-260-578-8431x4722    1970-04-08   \n",
      "455          nancy13@example.com   001-073-129-1327x0208    1998-01-25   \n",
      "456          tommy71@example.net              9698768082    1974-04-28   \n",
      "457            rtate@example.org  001-591-612-6569x38223    1962-05-03   \n",
      "\n",
      "                             profession              ville             region  \\\n",
      "0                 Editor, commissioning         Shashemenē            Oromiya   \n",
      "1                      Industrial buyer             Jasaan  Northern Mindanao   \n",
      "2                 Multimedia specialist            Toshloq            Fergana   \n",
      "3     Planning and development surveyor        Leytonstone            England   \n",
      "4              Therapeutic radiographer              Salwá            Hawalli   \n",
      "..                                  ...                ...                ...   \n",
      "453               Engineering geologist        Rosa Zarate         Esmeraldas   \n",
      "454                         Chiropodist             Paraty     Rio de Janeiro   \n",
      "455  Tourist information centre manager       Qadirpur Ran             Punjab   \n",
      "456        Medical sales representative             Sorada             Odisha   \n",
      "457                Commissioning editor  Verkhnyaya Pyshma  Sverdlovsk Oblast   \n",
      "\n",
      "            mdp  \n",
      "0    n4iNrw4s3T  \n",
      "1    nyujgh2wdH  \n",
      "2    O7mo3dRp2j  \n",
      "3    VUFNcK4qEw  \n",
      "4    z4Ll1m7ODZ  \n",
      "..          ...  \n",
      "453  QjZn1ZO3IM  \n",
      "454  Mzyw36OSht  \n",
      "455  q9MbZOodrL  \n",
      "456  ywLEH78pYS  \n",
      "457  n6EbkJHvKQ  \n",
      "\n",
      "[458 rows x 11 columns]\n"
     ]
    }
   ],
   "source": [
    "print(clients)"
   ]
  },
  {
   "cell_type": "markdown",
   "id": "5f6be290",
   "metadata": {},
   "source": [
    "### ETUDIONS LA DISTRUBUTION DE CERTAIN VARIABLES "
   ]
  },
  {
   "cell_type": "markdown",
   "id": "a6fc535d",
   "metadata": {},
   "source": [
    "### DISTRUBUTION DU SEXE"
   ]
  },
  {
   "cell_type": "code",
   "execution_count": 14,
   "id": "947c3d25",
   "metadata": {},
   "outputs": [
    {
     "data": {
      "image/png": "[encoded data removed]",
      "text/plain": [
       "<Figure size 600x400 with 1 Axes>"
      ]
     },
     "metadata": {},
     "output_type": "display_data"
    }
   ],
   "source": [
    "plt.figure(figsize=(6, 4))\n",
    "sns.countplot(x='sexe', data=clients)\n",
    "plt.title('Distribution du sexe')\n",
    "plt.show()"
   ]
  },
  {
   "cell_type": "markdown",
   "id": "4143e303",
   "metadata": {},
   "source": [
    "### com"
   ]
  },
  {
   "cell_type": "markdown",
   "id": "38fbe72c",
   "metadata": {},
   "source": [
    "#### LA DISTRIBUTION des Ages"
   ]
  },
  {
   "cell_type": "code",
   "execution_count": 16,
   "id": "bf0d2bc7",
   "metadata": {},
   "outputs": [
    {
     "data": {
      "image/png": "[encoded data removed]",
      "text/plain": [
       "<Figure size 800x600 with 1 Axes>"
      ]
     },
     "metadata": {},
     "output_type": "display_data"
    }
   ],
   "source": [
    "plt.figure(figsize=(8, 6))\n",
    "sns.histplot(x='age', data=clients, bins=20, kde=True)\n",
    "plt.title('Répartition des âges des clients')\n",
    "plt.xlabel('Âge')\n",
    "plt.show()"
   ]
  },
  {
   "cell_type": "markdown",
   "id": "e2002f9d",
   "metadata": {},
   "source": [
    "### la tables clients qu une v quantitatifs"
   ]
  },
  {
   "cell_type": "code",
   "execution_count": 20,
   "id": "5345bfb7",
   "metadata": {},
   "outputs": [
    {
     "name": "stderr",
     "output_type": "stream",
     "text": [
      "C:\\Users\\aldio\\AppData\\Local\\Temp\\ipykernel_28064\\3680798748.py:2: FutureWarning: The default value of numeric_only in DataFrame.corr is deprecated. In a future version, it will default to False. Select only valid columns or specify the value of numeric_only to silence this warning.\n",
      "  sns.heatmap(clients.corr(), annot=True, cmap='coolwarm', fmt='.2f')\n"
     ]
    },
    {
     "data": {
      "image/png": "[encoded data removed]",
      "text/plain": [
       "<Figure size 1000x1000 with 2 Axes>"
      ]
     },
     "metadata": {},
     "output_type": "display_data"
    }
   ],
   "source": [
    "plt.figure(figsize=(10, 10))\n",
    "sns.heatmap(clients.corr(), annot=True, cmap='coolwarm', fmt='.2f')\n",
    "plt.title('Heatmap de la corrélation entre les variables numériques')\n",
    "plt.show()"
   ]
  },
  {
   "cell_type": "markdown",
   "id": "03524629",
   "metadata": {},
   "source": [
    "#### Répartition des clients par tranche d'âge:"
   ]
  },
  {
   "cell_type": "code",
   "execution_count": 22,
   "id": "ba65229d",
   "metadata": {},
   "outputs": [
    {
     "data": {
      "image/png": "[encoded data removed]",
      "text/plain": [
       "<Figure size 1000x600 with 1 Axes>"
      ]
     },
     "metadata": {},
     "output_type": "display_data"
    }
   ],
   "source": [
    "plt.figure(figsize=(10, 6))\n",
    "bins = [0, 18, 25, 35, 50, 100]\n",
    "labels = ['0-18', '19-25', '26-35', '36-50', '50+']\n",
    "clients['tranche_age'] = pd.cut(clients['age'], bins=bins, labels=labels, right=False)\n",
    "sns.countplot(x='tranche_age', data=clients, order=labels)\n",
    "plt.title('Répartition des clients par tranche d\\'âge')\n",
    "plt.xlabel('Tranche d\\'âge')\n",
    "plt.show()\n"
   ]
  },
  {
   "cell_type": "code",
   "execution_count": null,
   "id": "3618c9c4",
   "metadata": {},
   "outputs": [],
   "source": []
  }
 ],
 "metadata": {
  "kernelspec": {
   "display_name": "Python 3 (ipykernel)",
   "language": "python",
   "name": "python3"
  },
  "language_info": {
   "codemirror_mode": {
    "name": "ipython",
    "version": 3
   },
   "file_extension": ".py",
   "mimetype": "text/x-python",
   "name": "python",
   "nbconvert_exporter": "python",
   "pygments_lexer": "ipython3",
   "version": "3.11.6"
  }
 },
 "nbformat": 4,
 "nbformat_minor": 5
}
